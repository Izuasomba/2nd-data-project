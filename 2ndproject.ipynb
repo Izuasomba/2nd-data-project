{
 "cells": [
  {
   "cell_type": "code",
   "execution_count": 91,
   "metadata": {},
   "outputs": [],
   "source": [
    "import pandas as pd\n",
    "import numpy as np\n",
    "import seaborn as sns"
   ]
  },
  {
   "cell_type": "code",
   "execution_count": 93,
   "metadata": {},
   "outputs": [],
   "source": [
    "df = pd.read_csv(\"C:/Users/hp/Movie_collection_test.csv\", header = 0)"
   ]
  },
  {
   "cell_type": "code",
   "execution_count": 94,
   "metadata": {},
   "outputs": [
    {
     "data": {
      "text/html": [
       "<div>\n",
       "<style scoped>\n",
       "    .dataframe tbody tr th:only-of-type {\n",
       "        vertical-align: middle;\n",
       "    }\n",
       "\n",
       "    .dataframe tbody tr th {\n",
       "        vertical-align: top;\n",
       "    }\n",
       "\n",
       "    .dataframe thead th {\n",
       "        text-align: right;\n",
       "    }\n",
       "</style>\n",
       "<table border=\"1\" class=\"dataframe\">\n",
       "  <thead>\n",
       "    <tr style=\"text-align: right;\">\n",
       "      <th></th>\n",
       "      <th>Collection</th>\n",
       "      <th>Marketin_expense</th>\n",
       "      <th>Production_expense</th>\n",
       "      <th>Multiplex_coverage</th>\n",
       "      <th>Budget</th>\n",
       "      <th>Movie_length</th>\n",
       "      <th>Lead_ Actor_Rating</th>\n",
       "      <th>Lead_Actress_rating</th>\n",
       "      <th>Director_rating</th>\n",
       "      <th>Producer_rating</th>\n",
       "      <th>Critic_rating</th>\n",
       "      <th>Trailer_views</th>\n",
       "      <th>Time_taken</th>\n",
       "      <th>Twitter_hastags</th>\n",
       "      <th>Genre</th>\n",
       "      <th>Avg_age_actors</th>\n",
       "      <th>MPAA_film_rating</th>\n",
       "      <th>Num_multiplex</th>\n",
       "      <th>3D_available</th>\n",
       "    </tr>\n",
       "  </thead>\n",
       "  <tbody>\n",
       "    <tr>\n",
       "      <th>0</th>\n",
       "      <td>11200</td>\n",
       "      <td>520.9220</td>\n",
       "      <td>91.2</td>\n",
       "      <td>0.307</td>\n",
       "      <td>33257.785</td>\n",
       "      <td>173.5</td>\n",
       "      <td>9.135</td>\n",
       "      <td>9.31</td>\n",
       "      <td>9.040</td>\n",
       "      <td>9.335</td>\n",
       "      <td>7.96</td>\n",
       "      <td>308973</td>\n",
       "      <td>184.24</td>\n",
       "      <td>220.896</td>\n",
       "      <td>Drama</td>\n",
       "      <td>30</td>\n",
       "      <td>PG</td>\n",
       "      <td>618</td>\n",
       "      <td>YES</td>\n",
       "    </tr>\n",
       "    <tr>\n",
       "      <th>1</th>\n",
       "      <td>14400</td>\n",
       "      <td>304.7240</td>\n",
       "      <td>91.2</td>\n",
       "      <td>0.307</td>\n",
       "      <td>35235.365</td>\n",
       "      <td>173.5</td>\n",
       "      <td>9.120</td>\n",
       "      <td>9.33</td>\n",
       "      <td>9.095</td>\n",
       "      <td>9.305</td>\n",
       "      <td>7.96</td>\n",
       "      <td>374897</td>\n",
       "      <td>146.88</td>\n",
       "      <td>201.152</td>\n",
       "      <td>Comedy</td>\n",
       "      <td>50</td>\n",
       "      <td>PG</td>\n",
       "      <td>703</td>\n",
       "      <td>YES</td>\n",
       "    </tr>\n",
       "    <tr>\n",
       "      <th>2</th>\n",
       "      <td>24200</td>\n",
       "      <td>211.9142</td>\n",
       "      <td>91.2</td>\n",
       "      <td>0.307</td>\n",
       "      <td>35574.220</td>\n",
       "      <td>173.5</td>\n",
       "      <td>9.170</td>\n",
       "      <td>9.32</td>\n",
       "      <td>9.115</td>\n",
       "      <td>9.120</td>\n",
       "      <td>7.96</td>\n",
       "      <td>359036</td>\n",
       "      <td>108.84</td>\n",
       "      <td>281.936</td>\n",
       "      <td>Thriller</td>\n",
       "      <td>42</td>\n",
       "      <td>PG</td>\n",
       "      <td>689</td>\n",
       "      <td>NO</td>\n",
       "    </tr>\n",
       "    <tr>\n",
       "      <th>3</th>\n",
       "      <td>16600</td>\n",
       "      <td>516.0340</td>\n",
       "      <td>91.2</td>\n",
       "      <td>0.307</td>\n",
       "      <td>29713.695</td>\n",
       "      <td>169.5</td>\n",
       "      <td>9.125</td>\n",
       "      <td>9.31</td>\n",
       "      <td>9.060</td>\n",
       "      <td>9.100</td>\n",
       "      <td>6.96</td>\n",
       "      <td>384237</td>\n",
       "      <td>NaN</td>\n",
       "      <td>301.328</td>\n",
       "      <td>Thriller</td>\n",
       "      <td>40</td>\n",
       "      <td>PG</td>\n",
       "      <td>677</td>\n",
       "      <td>YES</td>\n",
       "    </tr>\n",
       "    <tr>\n",
       "      <th>4</th>\n",
       "      <td>17000</td>\n",
       "      <td>850.5840</td>\n",
       "      <td>91.2</td>\n",
       "      <td>0.307</td>\n",
       "      <td>30724.705</td>\n",
       "      <td>158.9</td>\n",
       "      <td>9.050</td>\n",
       "      <td>9.22</td>\n",
       "      <td>9.185</td>\n",
       "      <td>9.330</td>\n",
       "      <td>7.96</td>\n",
       "      <td>312011</td>\n",
       "      <td>169.40</td>\n",
       "      <td>221.360</td>\n",
       "      <td>Comedy</td>\n",
       "      <td>56</td>\n",
       "      <td>PG</td>\n",
       "      <td>615</td>\n",
       "      <td>NO</td>\n",
       "    </tr>\n",
       "  </tbody>\n",
       "</table>\n",
       "</div>"
      ],
      "text/plain": [
       "   Collection  Marketin_expense  Production_expense  Multiplex_coverage  \\\n",
       "0       11200          520.9220                91.2               0.307   \n",
       "1       14400          304.7240                91.2               0.307   \n",
       "2       24200          211.9142                91.2               0.307   \n",
       "3       16600          516.0340                91.2               0.307   \n",
       "4       17000          850.5840                91.2               0.307   \n",
       "\n",
       "      Budget  Movie_length  Lead_ Actor_Rating  Lead_Actress_rating  \\\n",
       "0  33257.785         173.5               9.135                 9.31   \n",
       "1  35235.365         173.5               9.120                 9.33   \n",
       "2  35574.220         173.5               9.170                 9.32   \n",
       "3  29713.695         169.5               9.125                 9.31   \n",
       "4  30724.705         158.9               9.050                 9.22   \n",
       "\n",
       "   Director_rating  Producer_rating  Critic_rating  Trailer_views  Time_taken  \\\n",
       "0            9.040            9.335           7.96         308973      184.24   \n",
       "1            9.095            9.305           7.96         374897      146.88   \n",
       "2            9.115            9.120           7.96         359036      108.84   \n",
       "3            9.060            9.100           6.96         384237         NaN   \n",
       "4            9.185            9.330           7.96         312011      169.40   \n",
       "\n",
       "   Twitter_hastags     Genre  Avg_age_actors MPAA_film_rating  Num_multiplex  \\\n",
       "0          220.896     Drama              30               PG            618   \n",
       "1          201.152    Comedy              50               PG            703   \n",
       "2          281.936  Thriller              42               PG            689   \n",
       "3          301.328  Thriller              40               PG            677   \n",
       "4          221.360    Comedy              56               PG            615   \n",
       "\n",
       "  3D_available  \n",
       "0          YES  \n",
       "1          YES  \n",
       "2           NO  \n",
       "3          YES  \n",
       "4           NO  "
      ]
     },
     "execution_count": 94,
     "metadata": {},
     "output_type": "execute_result"
    }
   ],
   "source": [
    "df.head()"
   ]
  },
  {
   "cell_type": "code",
   "execution_count": 96,
   "metadata": {},
   "outputs": [
    {
     "data": {
      "text/plain": [
       "(106, 19)"
      ]
     },
     "execution_count": 96,
     "metadata": {},
     "output_type": "execute_result"
    }
   ],
   "source": [
    "df.shape"
   ]
  },
  {
   "cell_type": "code",
   "execution_count": 97,
   "metadata": {},
   "outputs": [
    {
     "data": {
      "text/html": [
       "<div>\n",
       "<style scoped>\n",
       "    .dataframe tbody tr th:only-of-type {\n",
       "        vertical-align: middle;\n",
       "    }\n",
       "\n",
       "    .dataframe tbody tr th {\n",
       "        vertical-align: top;\n",
       "    }\n",
       "\n",
       "    .dataframe thead th {\n",
       "        text-align: right;\n",
       "    }\n",
       "</style>\n",
       "<table border=\"1\" class=\"dataframe\">\n",
       "  <thead>\n",
       "    <tr style=\"text-align: right;\">\n",
       "      <th></th>\n",
       "      <th>Collection</th>\n",
       "      <th>Marketin_expense</th>\n",
       "      <th>Production_expense</th>\n",
       "      <th>Multiplex_coverage</th>\n",
       "      <th>Budget</th>\n",
       "      <th>Movie_length</th>\n",
       "      <th>Lead_ Actor_Rating</th>\n",
       "      <th>Lead_Actress_rating</th>\n",
       "      <th>Director_rating</th>\n",
       "      <th>Producer_rating</th>\n",
       "      <th>Critic_rating</th>\n",
       "      <th>Trailer_views</th>\n",
       "      <th>Time_taken</th>\n",
       "      <th>Twitter_hastags</th>\n",
       "      <th>Avg_age_actors</th>\n",
       "      <th>Num_multiplex</th>\n",
       "    </tr>\n",
       "  </thead>\n",
       "  <tbody>\n",
       "    <tr>\n",
       "      <th>count</th>\n",
       "      <td>106.000000</td>\n",
       "      <td>106.000000</td>\n",
       "      <td>106.000000</td>\n",
       "      <td>106.000000</td>\n",
       "      <td>106.000000</td>\n",
       "      <td>106.000000</td>\n",
       "      <td>106.000000</td>\n",
       "      <td>106.000000</td>\n",
       "      <td>106.000000</td>\n",
       "      <td>106.000000</td>\n",
       "      <td>106.000000</td>\n",
       "      <td>106.000000</td>\n",
       "      <td>102.000000</td>\n",
       "      <td>106.000000</td>\n",
       "      <td>106.000000</td>\n",
       "      <td>106.000000</td>\n",
       "    </tr>\n",
       "    <tr>\n",
       "      <th>mean</th>\n",
       "      <td>31515.094340</td>\n",
       "      <td>232.848926</td>\n",
       "      <td>90.257925</td>\n",
       "      <td>0.352566</td>\n",
       "      <td>33829.530755</td>\n",
       "      <td>159.030189</td>\n",
       "      <td>8.782783</td>\n",
       "      <td>8.950896</td>\n",
       "      <td>8.798113</td>\n",
       "      <td>8.932500</td>\n",
       "      <td>7.496792</td>\n",
       "      <td>399434.858491</td>\n",
       "      <td>155.860000</td>\n",
       "      <td>271.202868</td>\n",
       "      <td>40.943396</td>\n",
       "      <td>625.773585</td>\n",
       "    </tr>\n",
       "    <tr>\n",
       "      <th>std</th>\n",
       "      <td>10678.539159</td>\n",
       "      <td>250.202554</td>\n",
       "      <td>6.753619</td>\n",
       "      <td>0.065438</td>\n",
       "      <td>2940.705352</td>\n",
       "      <td>15.811197</td>\n",
       "      <td>0.294854</td>\n",
       "      <td>0.289587</td>\n",
       "      <td>0.290830</td>\n",
       "      <td>0.303414</td>\n",
       "      <td>0.499013</td>\n",
       "      <td>58563.941463</td>\n",
       "      <td>29.691674</td>\n",
       "      <td>136.537754</td>\n",
       "      <td>11.873805</td>\n",
       "      <td>72.272274</td>\n",
       "    </tr>\n",
       "    <tr>\n",
       "      <th>min</th>\n",
       "      <td>10000.000000</td>\n",
       "      <td>20.905400</td>\n",
       "      <td>74.380000</td>\n",
       "      <td>0.260000</td>\n",
       "      <td>22986.590000</td>\n",
       "      <td>102.300000</td>\n",
       "      <td>7.795000</td>\n",
       "      <td>8.055000</td>\n",
       "      <td>7.875000</td>\n",
       "      <td>7.995000</td>\n",
       "      <td>6.800000</td>\n",
       "      <td>212912.000000</td>\n",
       "      <td>105.840000</td>\n",
       "      <td>201.152000</td>\n",
       "      <td>20.000000</td>\n",
       "      <td>461.000000</td>\n",
       "    </tr>\n",
       "    <tr>\n",
       "      <th>25%</th>\n",
       "      <td>23850.000000</td>\n",
       "      <td>107.343250</td>\n",
       "      <td>91.200000</td>\n",
       "      <td>0.287000</td>\n",
       "      <td>32219.000000</td>\n",
       "      <td>151.750000</td>\n",
       "      <td>8.618750</td>\n",
       "      <td>8.793750</td>\n",
       "      <td>8.612500</td>\n",
       "      <td>8.737500</td>\n",
       "      <td>6.960000</td>\n",
       "      <td>359322.750000</td>\n",
       "      <td>125.050000</td>\n",
       "      <td>223.548000</td>\n",
       "      <td>30.000000</td>\n",
       "      <td>580.250000</td>\n",
       "    </tr>\n",
       "    <tr>\n",
       "      <th>50%</th>\n",
       "      <td>30400.000000</td>\n",
       "      <td>169.299000</td>\n",
       "      <td>91.200000</td>\n",
       "      <td>0.345000</td>\n",
       "      <td>34202.135000</td>\n",
       "      <td>164.250000</td>\n",
       "      <td>8.830000</td>\n",
       "      <td>8.987500</td>\n",
       "      <td>8.830000</td>\n",
       "      <td>8.980000</td>\n",
       "      <td>7.960000</td>\n",
       "      <td>401697.000000</td>\n",
       "      <td>163.800000</td>\n",
       "      <td>262.944000</td>\n",
       "      <td>41.500000</td>\n",
       "      <td>629.000000</td>\n",
       "    </tr>\n",
       "    <tr>\n",
       "      <th>75%</th>\n",
       "      <td>39800.000000</td>\n",
       "      <td>273.270500</td>\n",
       "      <td>91.200000</td>\n",
       "      <td>0.415000</td>\n",
       "      <td>35679.765000</td>\n",
       "      <td>170.875000</td>\n",
       "      <td>9.006250</td>\n",
       "      <td>9.155000</td>\n",
       "      <td>9.012500</td>\n",
       "      <td>9.123750</td>\n",
       "      <td>7.960000</td>\n",
       "      <td>438003.250000</td>\n",
       "      <td>181.110000</td>\n",
       "      <td>283.132000</td>\n",
       "      <td>52.000000</td>\n",
       "      <td>671.500000</td>\n",
       "    </tr>\n",
       "    <tr>\n",
       "      <th>max</th>\n",
       "      <td>59600.000000</td>\n",
       "      <td>1490.682000</td>\n",
       "      <td>110.480000</td>\n",
       "      <td>0.468000</td>\n",
       "      <td>41068.115000</td>\n",
       "      <td>173.500000</td>\n",
       "      <td>9.270000</td>\n",
       "      <td>9.495000</td>\n",
       "      <td>9.305000</td>\n",
       "      <td>9.580000</td>\n",
       "      <td>8.160000</td>\n",
       "      <td>532239.000000</td>\n",
       "      <td>205.600000</td>\n",
       "      <td>1622.400000</td>\n",
       "      <td>60.000000</td>\n",
       "      <td>775.000000</td>\n",
       "    </tr>\n",
       "  </tbody>\n",
       "</table>\n",
       "</div>"
      ],
      "text/plain": [
       "         Collection  Marketin_expense  Production_expense  Multiplex_coverage  \\\n",
       "count    106.000000        106.000000          106.000000          106.000000   \n",
       "mean   31515.094340        232.848926           90.257925            0.352566   \n",
       "std    10678.539159        250.202554            6.753619            0.065438   \n",
       "min    10000.000000         20.905400           74.380000            0.260000   \n",
       "25%    23850.000000        107.343250           91.200000            0.287000   \n",
       "50%    30400.000000        169.299000           91.200000            0.345000   \n",
       "75%    39800.000000        273.270500           91.200000            0.415000   \n",
       "max    59600.000000       1490.682000          110.480000            0.468000   \n",
       "\n",
       "             Budget  Movie_length  Lead_ Actor_Rating  Lead_Actress_rating  \\\n",
       "count    106.000000    106.000000          106.000000           106.000000   \n",
       "mean   33829.530755    159.030189            8.782783             8.950896   \n",
       "std     2940.705352     15.811197            0.294854             0.289587   \n",
       "min    22986.590000    102.300000            7.795000             8.055000   \n",
       "25%    32219.000000    151.750000            8.618750             8.793750   \n",
       "50%    34202.135000    164.250000            8.830000             8.987500   \n",
       "75%    35679.765000    170.875000            9.006250             9.155000   \n",
       "max    41068.115000    173.500000            9.270000             9.495000   \n",
       "\n",
       "       Director_rating  Producer_rating  Critic_rating  Trailer_views  \\\n",
       "count       106.000000       106.000000     106.000000     106.000000   \n",
       "mean          8.798113         8.932500       7.496792  399434.858491   \n",
       "std           0.290830         0.303414       0.499013   58563.941463   \n",
       "min           7.875000         7.995000       6.800000  212912.000000   \n",
       "25%           8.612500         8.737500       6.960000  359322.750000   \n",
       "50%           8.830000         8.980000       7.960000  401697.000000   \n",
       "75%           9.012500         9.123750       7.960000  438003.250000   \n",
       "max           9.305000         9.580000       8.160000  532239.000000   \n",
       "\n",
       "       Time_taken  Twitter_hastags  Avg_age_actors  Num_multiplex  \n",
       "count  102.000000       106.000000      106.000000     106.000000  \n",
       "mean   155.860000       271.202868       40.943396     625.773585  \n",
       "std     29.691674       136.537754       11.873805      72.272274  \n",
       "min    105.840000       201.152000       20.000000     461.000000  \n",
       "25%    125.050000       223.548000       30.000000     580.250000  \n",
       "50%    163.800000       262.944000       41.500000     629.000000  \n",
       "75%    181.110000       283.132000       52.000000     671.500000  \n",
       "max    205.600000      1622.400000       60.000000     775.000000  "
      ]
     },
     "execution_count": 97,
     "metadata": {},
     "output_type": "execute_result"
    }
   ],
   "source": [
    "df.describe()"
   ]
  },
  {
   "attachments": {},
   "cell_type": "markdown",
   "metadata": {},
   "source": [
    "1. for marketin_expense column, there is a lot of difference between the minimum and the 25th percentile also th max and the 75th percentile\n",
    "2. for production expense the 25th, 50th and 75th percentile are the same value\n",
    "3. Time_taken has some missing variables\n",
    "4. Twitter_hashtags has a huge difference between the 75th percentile and the max value\n",
    "5. collection is our independent variable"
   ]
  },
  {
   "cell_type": "code",
   "execution_count": 98,
   "metadata": {},
   "outputs": [
    {
     "data": {
      "text/plain": [
       "<seaborn.axisgrid.JointGrid at 0x1cecea1f700>"
      ]
     },
     "execution_count": 98,
     "metadata": {},
     "output_type": "execute_result"
    },
    {
     "data": {
      "image/png": "[encoded data removed]",
      "text/plain": [
       "<Figure size 600x600 with 3 Axes>"
      ]
     },
     "metadata": {},
     "output_type": "display_data"
    }
   ],
   "source": [
    "sns.jointplot(x=\"Marketin_expense\", y=\"Collection\", data = df)"
   ]
  },
  {
   "attachments": {},
   "cell_type": "markdown",
   "metadata": {},
   "source": [
    "Marketin_expense has a somewhat logarithmic relationship with Collection so we have to transform the variables to make it a more linear one"
   ]
  },
  {
   "cell_type": "code",
   "execution_count": 99,
   "metadata": {},
   "outputs": [],
   "source": [
    "df.Marketin_expense = np.log(1+df.Marketin_expense)\n"
   ]
  },
  {
   "cell_type": "code",
   "execution_count": 100,
   "metadata": {},
   "outputs": [
    {
     "data": {
      "text/plain": [
       "<seaborn.axisgrid.JointGrid at 0x1ced2c6a920>"
      ]
     },
     "execution_count": 100,
     "metadata": {},
     "output_type": "execute_result"
    },
    {
     "data": {
      "image/png": "[encoded data removed]",
      "text/plain": [
       "<Figure size 600x600 with 3 Axes>"
      ]
     },
     "metadata": {},
     "output_type": "display_data"
    }
   ],
   "source": [
    "sns.jointplot(x=\"Marketin_expense\", y=\"Collection\", data = df)"
   ]
  },
  {
   "cell_type": "code",
   "execution_count": 102,
   "metadata": {},
   "outputs": [],
   "source": [
    "df.Time_taken = df.Time_taken.fillna(df.Time_taken.mean()) "
   ]
  },
  {
   "cell_type": "code",
   "execution_count": 103,
   "metadata": {},
   "outputs": [
    {
     "name": "stdout",
     "output_type": "stream",
     "text": [
      "<class 'pandas.core.frame.DataFrame'>\n",
      "RangeIndex: 106 entries, 0 to 105\n",
      "Data columns (total 23 columns):\n",
      " #   Column               Non-Null Count  Dtype  \n",
      "---  ------               --------------  -----  \n",
      " 0   Collection           106 non-null    int64  \n",
      " 1   Marketin_expense     106 non-null    float64\n",
      " 2   Production_expense   106 non-null    float64\n",
      " 3   Multiplex_coverage   106 non-null    float64\n",
      " 4   Budget               106 non-null    float64\n",
      " 5   Movie_length         106 non-null    float64\n",
      " 6   Lead_ Actor_Rating   106 non-null    float64\n",
      " 7   Lead_Actress_rating  106 non-null    float64\n",
      " 8   Director_rating      106 non-null    float64\n",
      " 9   Producer_rating      106 non-null    float64\n",
      " 10  Critic_rating        106 non-null    float64\n",
      " 11  Trailer_views        106 non-null    int64  \n",
      " 12  Time_taken           106 non-null    float64\n",
      " 13  Twitter_hastags      106 non-null    float64\n",
      " 14  Avg_age_actors       106 non-null    int64  \n",
      " 15  Num_multiplex        106 non-null    int64  \n",
      " 16  Genre_Action         106 non-null    uint8  \n",
      " 17  Genre_Comedy         106 non-null    uint8  \n",
      " 18  Genre_Drama          106 non-null    uint8  \n",
      " 19  Genre_Thriller       106 non-null    uint8  \n",
      " 20  MPAA_film_rating_PG  106 non-null    uint8  \n",
      " 21  3D_available_NO      106 non-null    uint8  \n",
      " 22  3D_available_YES     106 non-null    uint8  \n",
      "dtypes: float64(12), int64(4), uint8(7)\n",
      "memory usage: 14.1 KB\n"
     ]
    }
   ],
   "source": [
    "df.info()"
   ]
  },
  {
   "cell_type": "code",
   "execution_count": 104,
   "metadata": {},
   "outputs": [
    {
     "data": {
      "text/plain": [
       "<seaborn.axisgrid.JointGrid at 0x1ced2517af0>"
      ]
     },
     "execution_count": 104,
     "metadata": {},
     "output_type": "execute_result"
    },
    {
     "data": {
      "image/png": "[encoded data removed]",
      "text/plain": [
       "<Figure size 600x600 with 3 Axes>"
      ]
     },
     "metadata": {},
     "output_type": "display_data"
    }
   ],
   "source": [
    "sns.jointplot(x=\"Production_expense\", y=\"Collection\", data = df)"
   ]
  },
  {
   "cell_type": "code",
   "execution_count": null,
   "metadata": {},
   "outputs": [],
   "source": []
  }
 ],
 "metadata": {
  "kernelspec": {
   "display_name": "Python 3 (ipykernel)",
   "language": "python",
   "name": "python3"
  },
  "language_info": {
   "codemirror_mode": {
    "name": "ipython",
    "version": 3
   },
   "file_extension": ".py",
   "mimetype": "text/x-python",
   "name": "python",
   "nbconvert_exporter": "python",
   "pygments_lexer": "ipython3",
   "version": "3.10.9"
  },
  "orig_nbformat": 4
 },
 "nbformat": 4,
 "nbformat_minor": 2
}
